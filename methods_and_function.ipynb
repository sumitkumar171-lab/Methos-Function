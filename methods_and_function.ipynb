{
 "cells": [
  {
   "cell_type": "code",
   "execution_count": null,
   "id": "cecc0110-943d-4f51-af40-084e127348ed",
   "metadata": {},
   "outputs": [],
   "source": [
    "## Assienment-1"
   ]
  },
  {
   "cell_type": "code",
   "execution_count": null,
   "id": "88695ac5-209c-49c9-9064-cedbaaeb4772",
   "metadata": {},
   "outputs": [],
   "source": [
    "'''\n",
    "q-1>  What is the difference between a function and a method in Python?\n",
    "q-2> Explain the concept of function arguments and parameters in Python?\n",
    "\n",
    "function is a block of reusable code that performs a specific task.\n",
    "Eg:\n",
    "def func(n):\n",
    "    return n+n\n",
    "Variable-Length Arguments:\n",
    " *args: For positional arguments.\n",
    "**kwargs: For keyword arguments.\n",
    "\n",
    "'''\n",
    "'''\n",
    "Method is associated with an object. Methods are functions defined within a class and operate on the data attributes of that object. \n",
    "There are three main types of methods in Python:\n",
    "1. Instance Methods\n",
    "2.Class Methods\n",
    "3.Static Methods\n",
    "eg:\n",
    "class P:\n",
    "    def __init__(self, name, age):\n",
    "        self.name = name\n",
    "        self.age = age\n",
    "    def quotes(self):\n",
    "        return f\"Hello, I am {self.name} and my age is {self.age} years old.\"\n",
    "w = P(\"Trisha\", 29)\n",
    "print(w.quotes())  \n",
    "'''"
   ]
  },
  {
   "cell_type": "code",
   "execution_count": null,
   "id": "90f12254-eb56-4713-a107-3ca45a1e93cb",
   "metadata": {},
   "outputs": [],
   "source": [
    "'''\n",
    "q-3>What are the different ways to define and call a function in Python?\n",
    "\n",
    "1. Regular Function\n",
    "eg:\n",
    "def M(e):\n",
    "    return f\"Hello, {e}!\"\n",
    "\n",
    "2.Anonymous Function (Lambda)\n",
    "eg:\n",
    "s = lambda x: x ** 2\n",
    "\n",
    "3. Nested Functions\n",
    "eg:\n",
    "\n",
    "def g():\n",
    "    def h():\n",
    "        return f\"hello: {msg}\"\n",
    "    return h\n",
    "\n",
    "3.Function with Default Arguments\n",
    "eg:\n",
    "\n",
    "def details(name=\"Sumit\"):\n",
    "    return f\"Hi, {name}!\"\n",
    "\n",
    "4.Function with Variable-Length Arguments\n",
    "eg:\n",
    "def g(*args):\n",
    "    for a in args:\n",
    "        print(a)\n",
    "\n",
    "def f(**kwargs):\n",
    "    for key, value in kwargs.items():\n",
    "        print(f\"{key}: {value}\")\n",
    "\n",
    "\n",
    "\n"
   ]
  },
  {
   "cell_type": "code",
   "execution_count": null,
   "id": "d399c4a3-6b44-4296-98b7-db8251b2c396",
   "metadata": {},
   "outputs": [],
   "source": [
    "'''\n",
    "q-4> What is the purpose of the `return` statement in a Python function?\n",
    "The return statement is used to send a values back to the called of the function.\n",
    "eg:\n",
    "def s():\n",
    "return f\"hello\""
   ]
  },
  {
   "cell_type": "code",
   "execution_count": null,
   "id": "5d6e9133-9005-401a-a57e-cfd895d9cddb",
   "metadata": {},
   "outputs": [],
   "source": [
    "'''\n",
    "q-5> What are iterators in Python and how do they differ from iterables?\n",
    "iterators are the process related to looping.\n",
    "eg:\n",
    "for loop ,while loop ,__iter__() ect.\n",
    "eg:\n",
    "list1 = [1, 2, 3]\n",
    "iterator = iter(list1)  \n",
    "print(next(iterator))  \n",
    "print(next(iterator))  \n",
    "print(next(iterator))  \n",
    "print(next(iterator))\n",
    "\n",
    "\n",
    "\n"
   ]
  },
  {
   "cell_type": "code",
   "execution_count": null,
   "id": "dd1019a4-937a-4644-bb21-af75bdd3e620",
   "metadata": {},
   "outputs": [],
   "source": [
    "'''\n",
    "q-6>Explain the concept of generators in Python and how they are defined?\n",
    "\n",
    "Generators are a special type of iterable that allow you to produce \n",
    "a sequence of values lazily, that is one value at a time, as they are needed.\n",
    "eg:\n",
    "yield,__next__(),\n",
    "\n",
    "def M():\n",
    "    yield 1\n",
    "    yield 2\n",
    "    yield 3\n",
    "\n",
    "p = M()\n",
    "print(next(p))  \n",
    "print(next(p))  \n",
    "print(next(p)) \n",
    "\n",
    "\n"
   ]
  },
  {
   "cell_type": "code",
   "execution_count": null,
   "id": "92498ccc-42c0-4734-82b6-0c1f06895bb4",
   "metadata": {},
   "outputs": [],
   "source": [
    "'''\n",
    "q-7>What are the advantages of using generators over regular functions?\n",
    "1.Memory Efficiency\n",
    "2.Lazy Evaluation\n",
    "3.Infinite Sequences\n"
   ]
  },
  {
   "cell_type": "code",
   "execution_count": null,
   "id": "1c6c7b27-abcb-430e-86c4-fea8c991b058",
   "metadata": {},
   "outputs": [],
   "source": [
    "'''\n",
    "q-8>What is a lambda function in Python and when is it typically used?\n",
    "lambda function is a anonymous function defined with the lambda keyword.\n",
    "eg:\n",
    "lambda arguments: expression\n"
   ]
  },
  {
   "cell_type": "code",
   "execution_count": 1,
   "id": "ff8f284c-482e-4566-8df8-b6e956febdab",
   "metadata": {},
   "outputs": [
    {
     "name": "stdout",
     "output_type": "stream",
     "text": [
      "[2, 4, 6]\n"
     ]
    }
   ],
   "source": [
    "#q-9> Explain the purpose and usage of the `map()` function in Python?\n",
    "#map():\n",
    "def add(n):\n",
    "    return n+n\n",
    "list1=[1,2,3]\n",
    "w=map(add,list1)\n",
    "print(list(w))"
   ]
  },
  {
   "cell_type": "code",
   "execution_count": 13,
   "id": "881c3f71-6cc9-4647-8263-fbc17a48b817",
   "metadata": {},
   "outputs": [
    {
     "name": "stdout",
     "output_type": "stream",
     "text": [
      "[2, 4, 6]\n",
      "24\n",
      "[2, 4, 6]\n"
     ]
    }
   ],
   "source": [
    "# q-10> What is the difference between `map()`, `reduce()`, and `filter()` functions in Python?\n",
    "#map()\n",
    "from functools import reduce\n",
    "def add(n):\n",
    "    return n+n\n",
    "list1=[1,2,3]\n",
    "w=map(add,list1)\n",
    "print(list(w))\n",
    "#reduce()\n",
    "from functools import reduce\n",
    "list2 = [1, 2, 3, 4]\n",
    "r = reduce(lambda x, y: x * y, list2)\n",
    "print(r)  \n",
    "#filter()\n",
    "list3 = [1, 2, 3, 4, 5, 6]\n",
    "g = filter(lambda x: x % 2 == 0,list3)\n",
    "print(list(g))  \n",
    "\n"
   ]
  },
  {
   "cell_type": "code",
   "execution_count": null,
   "id": "0998665d-995c-4035-8101-92dd480ff95b",
   "metadata": {},
   "outputs": [],
   "source": [
    "'''\n",
    "q-11>Using pen & Paper write the internal mechanism for sum operation using  reduce function on this given\n",
    "list:[47,11,42,13];\n",
    "Step-by-Step Mechanism:\n",
    "1>  function implementation for first two elements of the list:\n",
    "x = 47\n",
    "y = 11\n",
    "The result is 47 + 11 is 58.\n",
    "2> The result from the first step and the next element in the list:\n",
    "x = 58 \n",
    "y = 42\n",
    "The result is 58 + 42 is 100.\n",
    "3> the result from the second step and the last element in the list:\n",
    "\n",
    "x = 100 \n",
    "y = 13\n",
    "The result is 100 + 13 is 113.\n",
    "The reduce() function returns 113."
   ]
  },
  {
   "cell_type": "code",
   "execution_count": 15,
   "id": "dd5bf1ae-44f3-4b0d-aee2-126585c52523",
   "metadata": {},
   "outputs": [
    {
     "name": "stdout",
     "output_type": "stream",
     "text": [
      "113\n"
     ]
    }
   ],
   "source": [
    "#eg:\n",
    "from functools import reduce\n",
    "list4 = [47, 11, 42, 13]\n",
    "r = reduce(lambda x, y: x + y, list4)\n",
    "print(r)\n"
   ]
  },
  {
   "cell_type": "code",
   "execution_count": null,
   "id": "156a7a85-2c45-4583-8c8c-fe81121cd8f6",
   "metadata": {},
   "outputs": [],
   "source": [
    "# Assignment1.1"
   ]
  },
  {
   "cell_type": "code",
   "execution_count": 19,
   "id": "d9e01e89-9ece-4e1f-bb4b-b9a208948ce9",
   "metadata": {},
   "outputs": [
    {
     "name": "stdin",
     "output_type": "stream",
     "text": [
      "enter the number in the list: 1,2,3,4\n"
     ]
    },
    {
     "name": "stdout",
     "output_type": "stream",
     "text": [
      "[1, 2, 3, 4]\n",
      "6\n"
     ]
    }
   ],
   "source": [
    "'''\n",
    "q-1>Write a Python function that takes a list of numbers as input and returns the sum of all even numbers in\n",
    "the list.\n",
    "'''\n",
    "number=input(\"enter the number in the list:\")\n",
    "d=[]\n",
    "for i in number.split(\",\"):\n",
    "    d.append(int(i))\n",
    "print(d)\n",
    "s=0\n",
    "for j in d:\n",
    "    if j%2==0:\n",
    "        s+=j\n",
    "print(s)"
   ]
  },
  {
   "cell_type": "code",
   "execution_count": 23,
   "id": "5b007066-8565-4f27-9b44-7a757c2dc10d",
   "metadata": {},
   "outputs": [
    {
     "name": "stdin",
     "output_type": "stream",
     "text": [
      " enter the string : sumit\n"
     ]
    },
    {
     "name": "stdout",
     "output_type": "stream",
     "text": [
      "sumit\n",
      "timus\n"
     ]
    }
   ],
   "source": [
    "'''\n",
    "q-2>Create a Python function that accepts a string and returns the reverse of that string.\n",
    "'''\n",
    "S=input(\" enter the string :\")\n",
    "print(S)\n",
    "g=S[::-1]\n",
    "print(g)"
   ]
  },
  {
   "cell_type": "code",
   "execution_count": 31,
   "id": "20dc35d7-5418-441a-86e7-4ff47498798f",
   "metadata": {},
   "outputs": [
    {
     "name": "stdin",
     "output_type": "stream",
     "text": [
      "enter the numbers :  1,2,3\n"
     ]
    },
    {
     "name": "stdout",
     "output_type": "stream",
     "text": [
      "[1, 2, 3]\n",
      "[1, 4, 9]\n"
     ]
    }
   ],
   "source": [
    "'''\n",
    "q-3>Implement a Python function that takes a list of integers and returns a new list containing the squares of\n",
    "each number.\n",
    "'''\n",
    "\n",
    "def squares_numbers(g):\n",
    "    return g**2\n",
    "list1=input(\"enter the numbers : \")\n",
    "d=[]\n",
    "for j in list1.split(\",\"):\n",
    "    d.append(int(j))\n",
    "print(d)\n",
    "f=map(squares_numbers,d)\n",
    "print(list(f))"
   ]
  },
  {
   "cell_type": "code",
   "execution_count": 35,
   "id": "fb6f829d-5d82-4692-bc8d-552f07544cdc",
   "metadata": {},
   "outputs": [
    {
     "name": "stdout",
     "output_type": "stream",
     "text": [
      "Prime numbers from 1 to 200: [2, 3, 5, 7, 11, 13, 17, 19, 23, 29, 31, 37, 41, 43, 47, 53, 59, 61, 67, 71, 73, 79, 83, 89, 97, 101, 103, 107, 109, 113, 127, 131, 137, 139, 149, 151, 157, 163, 167, 173, 179, 181, 191, 193, 197, 199]\n"
     ]
    }
   ],
   "source": [
    "'''\n",
    "q-4> Write a Python function that checks if a given number is prime or not from 1 to 200 ?\n",
    "'''\n",
    "def prime_numbers(f):\n",
    "    if f < 2:\n",
    "        return False\n",
    "    for i in range(2, int(f ** 0.5) + 1):  \n",
    "        if f % i == 0:\n",
    "            return False\n",
    "    return True\n",
    "primes = [num for num in range(1, 201) if prime_numbers(num)]\n",
    "print(\"Prime numbers from 1 to 200:\", primes)\n"
   ]
  },
  {
   "cell_type": "code",
   "execution_count": 53,
   "id": "aee77d69-baa5-47ec-9727-24ae87bc150e",
   "metadata": {},
   "outputs": [
    {
     "name": "stdin",
     "output_type": "stream",
     "text": [
      "Enter the numbers :  5\n"
     ]
    },
    {
     "name": "stdout",
     "output_type": "stream",
     "text": [
      "0 1 1 2 3 "
     ]
    }
   ],
   "source": [
    "'''\n",
    "q-5> Create an iterator class in Python that generates the Fibonacci sequence up to a specified number of\n",
    "terms.\n",
    "'''\n",
    "class Fibonacci:\n",
    "    def __init__(self, g):\n",
    "        self.n_terms = g\n",
    "        self.a, self.b = 0, 1  \n",
    "        self.count = 0  \n",
    "    def __iter__(self):\n",
    "        return self\n",
    "    def __next__(self):\n",
    "        if self.count >= self.n_terms:\n",
    "            raise StopIteration \n",
    "        fib_number = self.a\n",
    "        self.a, self.b = self.b, self.a + self.b  \n",
    "        self.count += 1\n",
    "        return fib_number\n",
    "n = int(input(\"Enter the numbers : \"))\n",
    "fib = Fibonacci(n)\n",
    "for n in fib:\n",
    "    print(n, end=\" \")\n",
    "\n",
    "\n"
   ]
  },
  {
   "cell_type": "code",
   "execution_count": 61,
   "id": "3245af87-0fdc-4616-a348-cb14309ba02b",
   "metadata": {},
   "outputs": [
    {
     "name": "stdin",
     "output_type": "stream",
     "text": [
      "Enter the exponent:  4\n"
     ]
    },
    {
     "name": "stdout",
     "output_type": "stream",
     "text": [
      "1\n",
      "2\n",
      "4\n",
      "8\n",
      "16\n"
     ]
    }
   ],
   "source": [
    "'''\n",
    "q-6>Write a generator function in Python that yields the powers of 2 up to a given exponent.\n",
    "'''\n",
    "def f(exponent):\n",
    "    for e in range(exponent + 1):\n",
    "        yield 2 ** e  \n",
    "v = int(input(\"Enter the exponent: \"))\n",
    "for p in f(v):\n",
    "    print(p)\n"
   ]
  },
  {
   "cell_type": "code",
   "execution_count": 69,
   "id": "c378e862-49e2-4497-a46d-bdb2b2aa7407",
   "metadata": {},
   "outputs": [
    {
     "name": "stdout",
     "output_type": "stream",
     "text": [
      "Artificial Intelligence: Transforming the Future\n",
      "\n",
      "Artificial Intelligence (AI) is one of the most revolutionary technologies of the 21st century. It has significantly transformed various aspects of human life, ranging from healthcare and finance to entertainment and transportation. AI enables machines to mimic human intelligence, allowing them to learn from data, recognize patterns, and make decisions with minimal human intervention. As AI continues to advance, it presents numerous opportunities and challenges that impact society on a global scale.\n",
      "\n",
      "The Evolution of AI\n",
      "\n",
      "The concept of AI dates back to the 1950s when computer scientists began exploring the possibility of creating machines capable of simulating human intelligence. Over the decades, AI has evolved from simple rule-based systems to advanced machine learning and deep learning models. Today, AI-powered systems, such as chatbots, self-driving cars, and medical diagnosis tools, showcase the immense potential of this technology.\n"
     ]
    }
   ],
   "source": [
    "'''\n",
    "q-7>  Implement a generator function that reads a file line by line and yields each line as a string.\n",
    "'''\n",
    "def file(filename):\n",
    "    with open(filename, 'r', encoding='utf-8') as file:\n",
    "        for line in file:\n",
    "            yield line.strip()  \n",
    "file_path = \"E:\\\\My Details\\\\Generative AI\\\\File1.txt\"  \n",
    "for line in file(file_path):\n",
    "    print(line)\n"
   ]
  },
  {
   "cell_type": "code",
   "execution_count": 85,
   "id": "9259630b-c729-4cab-a560-1841c3465aaa",
   "metadata": {},
   "outputs": [
    {
     "name": "stdout",
     "output_type": "stream",
     "text": [
      "[(23, 2), (1, 3), (2, 6), (77, 28)]\n"
     ]
    }
   ],
   "source": [
    "'''\n",
    "q-8>  Use a lambda function in Python to sort a list of tuples based on the second element of each tuple?\n",
    "'''\n",
    "tuples1 = [(1, 3), (23, 2), (2, 6), (77, 28)]\n",
    "g = sorted(tuples1, key=lambda x: x[1])\n",
    "print(g)\n"
   ]
  },
  {
   "cell_type": "code",
   "execution_count": 91,
   "id": "ad4e84e7-61b7-41c4-a757-6b31d1fa44b0",
   "metadata": {},
   "outputs": [
    {
     "name": "stdout",
     "output_type": "stream",
     "text": [
      "[32.0, 50.0, 68.0, 86.0, 104.0]\n"
     ]
    }
   ],
   "source": [
    "'''\n",
    "q-9> Write a Python program that uses `map()` to convert a list of temperatures from Celsius to Fahrenheit.\n",
    "'''\n",
    "tempreture = [0, 10, 20, 30, 40]\n",
    "def celsius_to_fahrenheit(celsius):\n",
    "    return (9/5) * celsius + 32\n",
    "temp = list(map(celsius_to_fahrenheit, tempreture))\n",
    "print(temp)\n",
    "\n"
   ]
  },
  {
   "cell_type": "code",
   "execution_count": 95,
   "id": "6c70abc6-179c-4cdd-b563-04f9f2100cd2",
   "metadata": {},
   "outputs": [
    {
     "name": "stdout",
     "output_type": "stream",
     "text": [
      "rtfclntllgnc()snfthmstrvltnrytchnlgsfth21stcntry\n"
     ]
    }
   ],
   "source": [
    "'''\n",
    "q-10> Create a Python program that uses `filter()` to remove all the vowels from a given string ?\n",
    "'''\n",
    "string = \"Artificial Intelligence (AI) is one of the most revolutionary technologies of the 21st century\"\n",
    "def is_not_vowel(r):\n",
    "    return r.lower() not in 'a e i o u'\n",
    "f = ''.join(filter(is_not_vowel, string))\n",
    "print(f)\n"
   ]
  },
  {
   "cell_type": "code",
   "execution_count": null,
   "id": "171b618e-c05f-4753-9f88-441f6b0b67b2",
   "metadata": {},
   "outputs": [],
   "source": [
    "'''\n",
    "q-11>Imagine an accounting routine used in a book shop. It works on a list with sublists, which look like this:\n",
    "'''\n",
    "kindly explain !!! Not getting ."
   ]
  }
 ],
 "metadata": {
  "kernelspec": {
   "display_name": "Python [conda env:base] *",
   "language": "python",
   "name": "conda-base-py"
  },
  "language_info": {
   "codemirror_mode": {
    "name": "ipython",
    "version": 3
   },
   "file_extension": ".py",
   "mimetype": "text/x-python",
   "name": "python",
   "nbconvert_exporter": "python",
   "pygments_lexer": "ipython3",
   "version": "3.12.7"
  }
 },
 "nbformat": 4,
 "nbformat_minor": 5
}
